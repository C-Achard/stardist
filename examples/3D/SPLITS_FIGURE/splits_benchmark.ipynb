{
 "cells": [
  {
   "cell_type": "code",
   "execution_count": 1,
   "id": "ff99ebb2-9532-469b-ac2d-60b8256a66f2",
   "metadata": {
    "ExecuteTime": {
     "end_time": "2023-08-10T13:44:16.196630100Z",
     "start_time": "2023-08-10T13:44:14.673089100Z"
    }
   },
   "outputs": [],
   "source": [
    "from pathlib import Path\n",
    "from tifffile import imread\n",
    "from typing import Union\n",
    "import sys\n",
    "import matplotlib.pyplot as plt\n",
    "from pathlib import Path\n",
    "import numpy as np\n",
    "from stardist.matching import matching_dataset\n",
    "sys.path.append(\"../\")"
   ]
  },
  {
   "cell_type": "code",
   "execution_count": 2,
   "id": "ef328ed8-8c67-4666-b6f9-b546d58e1402",
   "metadata": {
    "ExecuteTime": {
     "end_time": "2023-08-10T13:44:16.224935900Z",
     "start_time": "2023-08-10T13:44:16.203612200Z"
    }
   },
   "outputs": [],
   "source": [
    "def dice_coeff(\n",
    "    y_true: np.ndarray,\n",
    "    y_pred: np.ndarray,\n",
    ") -> np.float64:\n",
    "    \"\"\"Compute Dice-Sorensen coefficient between two numpy arrays\n",
    "    Args:\n",
    "        y_true: Ground truth label\n",
    "        y_pred: Prediction label\n",
    "    Returns: dice coefficient\n",
    "    \"\"\"\n",
    "    sum_tensor = np.sum\n",
    "    smooth = 1.0\n",
    "    y_true_f = y_true.flatten()\n",
    "    y_pred_f = y_pred.flatten()\n",
    "    intersection = sum_tensor(y_true_f * y_pred_f)\n",
    "    score = (2.0 * intersection + smooth) / (\n",
    "        sum_tensor(y_true_f) + sum_tensor(y_pred_f) + smooth\n",
    "    )\n",
    "    return score\n",
    "\n",
    "\n",
    "def intersection_over_union(\n",
    "    y_true: np.ndarray, y_pred: np.ndarray\n",
    ") -> np.float64:\n",
    "    \"\"\"Compute Intersection over Union between two numpy arrays\n",
    "    Args:\n",
    "        y_true: Ground truth label\n",
    "        y_pred: Prediction label\n",
    "    Returns: IoU\n",
    "    \"\"\"\n",
    "    y_true_f = y_true.flatten()\n",
    "    y_pred_f = y_pred.flatten()\n",
    "    intersection = np.sum(y_true_f * y_pred_f)\n",
    "    union = np.sum(y_true_f) + np.sum(y_pred_f) - intersection\n",
    "    return intersection / union\n",
    "\n",
    "\n",
    "def precision(y_true: np.ndarray, y_pred: np.ndarray) -> np.float64:\n",
    "    \"\"\"Compute precision between two numpy arrays\n",
    "    Args:\n",
    "        y_true: Ground truth label\n",
    "        y_pred: Prediction label\n",
    "    Returns: precision\n",
    "    \"\"\"\n",
    "    y_true_f = y_true.flatten()\n",
    "    y_pred_f = y_pred.flatten()\n",
    "    intersection = np.sum(y_true_f * y_pred_f)\n",
    "    return intersection / np.sum(y_pred_f)\n",
    "\n",
    "\n",
    "def recall(y_true: np.ndarray, y_pred: np.ndarray) -> np.float64:\n",
    "    \"\"\"Compute recall between two numpy arrays\n",
    "    Args:\n",
    "        y_true: Ground truth label\n",
    "        y_pred: Prediction label\n",
    "    Returns: recall\n",
    "    \"\"\"\n",
    "    y_true_f = y_true.flatten()\n",
    "    y_pred_f = y_pred.flatten()\n",
    "    intersection = np.sum(y_true_f * y_pred_f)\n",
    "    return intersection / np.sum(y_true_f)"
   ]
  },
  {
   "cell_type": "code",
   "execution_count": 3,
   "id": "a145af40-447d-42b4-a8c8-466395e15718",
   "metadata": {
    "ExecuteTime": {
     "end_time": "2023-08-10T13:44:16.233875600Z",
     "start_time": "2023-08-10T13:44:16.216849300Z"
    }
   },
   "outputs": [],
   "source": [
    "def plot_model_performance_semantic(\n",
    "    image, gt, name, threshold_range=None, print_max=True\n",
    "):\n",
    "    \"\"\"Plot the Dice, IoU, precision and recall for a given model and threshold range, across the specified threshold range between 0 and 1\"\"\"\n",
    "    if threshold_range is None:\n",
    "        threshold_range = np.arange(0, 1, 0.025)\n",
    "\n",
    "    dice_scores = []\n",
    "    iou_scores = []\n",
    "    precision_scores = []\n",
    "    recall_scores = []\n",
    "    for threshold in threshold_range:\n",
    "        pred = np.where(image > threshold, 1, 0)\n",
    "        dice_scores.append(dice_coeff(gt, pred))\n",
    "        iou_scores.append(intersection_over_union(gt, pred))\n",
    "        precision_scores.append(precision(gt, pred))\n",
    "        recall_scores.append(recall(gt, pred))\n",
    "    plt.figure(figsize=(7, 7))\n",
    "    plt.plot(threshold_range, dice_scores, label=\"Dice\")\n",
    "    plt.plot(threshold_range, iou_scores, label=\"IoU\")\n",
    "    plt.plot(threshold_range, precision_scores, label=\"Precision\")\n",
    "    plt.plot(threshold_range, recall_scores, label=\"Recall\")\n",
    "    # draw optimal threshold at max Dice score\n",
    "    optimal_threshold = threshold_range[np.argmax(dice_scores)]\n",
    "    plt.axvline(optimal_threshold, color=\"black\", linestyle=\"--\")\n",
    "    # label line as optimal threshold at the bottom\n",
    "    plt.text(\n",
    "        optimal_threshold - 0.25,\n",
    "        0,\n",
    "        f\"Max Dice @ {optimal_threshold:.2f}\",\n",
    "        verticalalignment=\"bottom\",\n",
    "    )\n",
    "    plt.xlabel(\"Threshold\")\n",
    "    plt.ylabel(\"Score\")\n",
    "    plt.title(f\"Model performance for {name}\")\n",
    "    plt.legend()\n",
    "    plt.show()\n",
    "\n",
    "    if print_max:\n",
    "        print(\n",
    "            f\"Max Dice of {np.max(dice_scores):.2f} @ {threshold_range[np.argmax(dice_scores)]:.2f}\"\n",
    "        )\n",
    "        print(\n",
    "            f\"Max IoU of {np.max(iou_scores):.2f} @ {threshold_range[np.argmax(iou_scores)]:.2f}\"\n",
    "        )\n",
    "\n",
    "    return dice_scores, iou_scores, precision_scores, recall_scores"
   ]
  },
  {
   "cell_type": "code",
   "execution_count": 4,
   "id": "c4c84592-b72d-4c86-ae83-c1120ed9078e",
   "metadata": {
    "ExecuteTime": {
     "end_time": "2023-08-10T13:44:16.261096100Z",
     "start_time": "2023-08-10T13:44:16.229886300Z"
    }
   },
   "outputs": [],
   "source": [
    "image_folder = Path.home() / \"Desktop/Code/CELLSEG_BENCHMARK/RESULTS/SPLITS/Analysis\"\n",
    "c5 = imread(image_folder / \"c5.tif\")\n",
    "c3 = imread(image_folder / \"c3.tif\")\n",
    "visual = imread(image_folder / \"visual.tif\")\n",
    "\n",
    "visual_slice = 50\n",
    "# visual_slice = -1\n",
    "\n",
    "gt_dict = {\n",
    "    \"visual\": visual[:visual_slice,:,:],\n",
    "    \"c3\": c3,\n",
    "    \"c5\": c5,\n",
    "}"
   ]
  },
  {
   "cell_type": "code",
   "execution_count": 5,
   "id": "f8e3e172-ac26-43a1-9531-05a0919d4408",
   "metadata": {
    "ExecuteTime": {
     "end_time": "2023-08-10T13:44:16.273040200Z",
     "start_time": "2023-08-10T13:44:16.266086900Z"
    }
   },
   "outputs": [],
   "source": [
    "visual_preds = {\n",
    "    \"cellpose\": {\n",
    "        \"8020\": image_folder / \"c1_5/cp/iso_visual_c1-5_visual_8020.tif\",\n",
    "        \"6040\": image_folder / \"c1_5/cp/iso_visual_c1-5_visual_6040.tif\"\n",
    "    },\n",
    "    \"stardist\": {\n",
    "        \"8020\": image_folder / \"c1_5/sd/stardist_8020_labels.tif\",\n",
    "        \"6040\": image_folder / \"c1_5/sd/stardist_6040_labels.tif\"\n",
    "    },\n",
    "    \"segres\": {\n",
    "        \"8020\": image_folder / \"c1_5/segres/c1_5_8020_SegRes.tif\",\n",
    "        \"6040\": image_folder / \"c1_5/segres/c1_5_6040_SegRes.tif\"\n",
    "    },\n",
    "    \"swin\": {\n",
    "        \"8020\": image_folder / \"c1_5/swin/c1-5_8020_Swin.tif\",\n",
    "        \"6040\": image_folder / \"c1_5/swin/c1-5_6040_Swin.tif\"\n",
    "    },\n",
    "}\n",
    "c3_preds = {\n",
    "    \"cellpose\": {\n",
    "        \"8020\": image_folder / \"c1245_v/cp/c3image_c1245_v_8020.tif\",\n",
    "        \"6040\": image_folder / \"c1245_v/cp/c3image_c1245_v_6040.tif\"\n",
    "    },\n",
    "    \"stardist\": {\n",
    "        \"8020\": image_folder / \"c1245_v/sd/stardist_8020_labels.tif\",\n",
    "        \"6040\": image_folder / \"c1245_v/sd/stardist_6040_labels.tif\"\n",
    "    },\n",
    "    \"segres\": {\n",
    "        \"8020\": image_folder / \"c1245_v/segres/c1245-v_8020_SegRes.tif\",\n",
    "        \"6040\": image_folder / \"c1245_v/segres/c1245-v_6040_SegRes.tif\"\n",
    "    },\n",
    "    \"swin\": {\n",
    "        \"8020\": image_folder / \"c1245_v/swin/c1245-v_8020_Swin.tif\",\n",
    "        \"6040\": image_folder / \"c1245_v/swin/c1245-v_6040_Swin.tif\"\n",
    "    },\n",
    "}\n",
    "c5_preds = {\n",
    "    \"cellpose\": {\n",
    "        \"8020\": image_folder / \"c1-4_v/cp/c5image_c1-4_v_8020.tif\",\n",
    "        \"6040\": image_folder / \"c1-4_v/cp/c5image_c1-4_v_6040.tif\"\n",
    "    },\n",
    "    \"stardist\": {\n",
    "        \"8020\": image_folder / \"c1-4_v/sd/stardist_8020_labels.tif\",\n",
    "        \"6040\": image_folder / \"c1-4_v/sd/stardist_6040_labels.tif\"\n",
    "    },\n",
    "    \"segres\": {\n",
    "        \"8020\": image_folder / \"c1-4_v/segres/c1-4-v_8020_SegRes.tif\",\n",
    "        \"6040\": image_folder / \"c1-4_v/segres/c1-4-v_6040_SegRes.tif\"\n",
    "    },\n",
    "    \"swin\": {\n",
    "        \"8020\": image_folder / \"c1-4_v/swin/c1-4-v_8020_Swin.tif\",\n",
    "        \"6040\": image_folder / \"c1-4_v/swin/c1-4-v_6040_Swin.tif\"\n",
    "    },\n",
    "}"
   ]
  },
  {
   "cell_type": "code",
   "execution_count": 6,
   "outputs": [],
   "source": [
    "cellpose_preds = {\n",
    "    \"8020\": {\n",
    "        \"visual\": imread(visual_preds[\"cellpose\"][\"8020\"])[:visual_slice,:,:],\n",
    "        \"c3\": imread(c3_preds[\"cellpose\"][\"8020\"]),\n",
    "        \"c5\": imread(c5_preds[\"cellpose\"][\"8020\"]),\n",
    "    },\n",
    "    \"6040\": {\n",
    "        \"visual\": imread(visual_preds[\"cellpose\"][\"6040\"])[:visual_slice,:,:],\n",
    "        \"c3\": imread(c3_preds[\"cellpose\"][\"6040\"]),\n",
    "        \"c5\": imread(c5_preds[\"cellpose\"][\"6040\"]),\n",
    "    },\n",
    "}\n",
    "stardist_preds = {\n",
    "    \"8020\": {\n",
    "        \"visual\": imread(visual_preds[\"stardist\"][\"8020\"])[:visual_slice,:,:],\n",
    "        \"c3\": imread(c3_preds[\"stardist\"][\"8020\"]),\n",
    "        \"c5\": imread(c5_preds[\"stardist\"][\"8020\"]),\n",
    "    },\n",
    "    \"6040\": {\n",
    "        \"visual\": imread(visual_preds[\"stardist\"][\"6040\"])[:visual_slice,:,:],\n",
    "        \"c3\": imread(c3_preds[\"stardist\"][\"6040\"]),\n",
    "        \"c5\": imread(c5_preds[\"stardist\"][\"6040\"]),\n",
    "    },\n",
    "}\n",
    "segres_preds = {\n",
    "    \"8020\": {\n",
    "        \"visual\": imread(visual_preds[\"segres\"][\"8020\"])[:visual_slice,:,:],\n",
    "        \"c3\": imread(c3_preds[\"segres\"][\"8020\"]),\n",
    "        \"c5\": imread(c5_preds[\"segres\"][\"8020\"]),\n",
    "    },\n",
    "    \"6040\": {\n",
    "        \"visual\": imread(visual_preds[\"segres\"][\"6040\"])[:visual_slice,:,:],\n",
    "        \"c3\": imread(c3_preds[\"segres\"][\"6040\"]),\n",
    "        \"c5\": imread(c5_preds[\"segres\"][\"6040\"]),\n",
    "    },\n",
    "}\n",
    "swin_preds = {\n",
    "    \"8020\": {\n",
    "        \"visual\": imread(visual_preds[\"swin\"][\"8020\"])[:visual_slice,:,:],\n",
    "        \"c3\": imread(c3_preds[\"swin\"][\"8020\"]),\n",
    "        \"c5\": imread(c5_preds[\"swin\"][\"8020\"]),\n",
    "    },\n",
    "    \"6040\": {\n",
    "        \"visual\": imread(visual_preds[\"swin\"][\"6040\"])[:visual_slice,:,:],\n",
    "        \"c3\": imread(c3_preds[\"swin\"][\"6040\"]),\n",
    "        \"c5\": imread(c5_preds[\"swin\"][\"6040\"]),\n",
    "    },\n",
    "}\n",
    "wnet_preds = {\n",
    "    \"8020\": {\n",
    "        \"visual\": imread(image_folder / \"WNet/visual_pred.tif\")[:visual_slice,:,:],\n",
    "        \"c3\": imread(image_folder / \"WNet/c3_pred.tif\"),\n",
    "        \"c5\": imread(image_folder / \"WNet/c5_pred.tif\"),\n",
    "    },\n",
    "    \"6040\": {\n",
    "        \"visual\": imread(image_folder / \"WNet/visual_pred.tif\")[:visual_slice,:,:],\n",
    "        \"c3\": imread(image_folder / \"WNet/c3_pred.tif\"),\n",
    "        \"c5\": imread(image_folder / \"WNet/c5_pred.tif\"),\n",
    "    }\n",
    "}"
   ],
   "metadata": {
    "collapsed": false,
    "ExecuteTime": {
     "end_time": "2023-08-10T13:44:16.633622400Z",
     "start_time": "2023-08-10T13:44:16.281018500Z"
    }
   },
   "id": "6d86af5486917252"
  },
  {
   "cell_type": "code",
   "execution_count": 7,
   "outputs": [],
   "source": [
    "def model_dices_across_splits(model_dict):\n",
    "    model_dices = {\n",
    "        \"8020\": [],\n",
    "        \"6040\": []\n",
    "    }\n",
    "    for split in model_dict:\n",
    "        for image in model_dict[split]:\n",
    "            print(f\"Split: {split}, Image: {image}\")\n",
    "            print(f\"Image shape: {model_dict[split][image].shape}\")\n",
    "            print(f\"GT shape: {gt_dict[image].shape}\")\n",
    "            gt = gt_dict[image]\n",
    "            pred = model_dict[split][image]\n",
    "            gt = np.where(gt > 0, 1, 0)\n",
    "            pred = np.where(pred > 0, 1, 0)\n",
    "            dice = dice_coeff(gt, pred)\n",
    "            print(f\"Dice: {dice}\")\n",
    "            model_dices[split].append(dice)\n",
    "    return model_dices"
   ],
   "metadata": {
    "collapsed": false,
    "ExecuteTime": {
     "end_time": "2023-08-10T13:44:16.649359500Z",
     "start_time": "2023-08-10T13:44:16.635617500Z"
    }
   },
   "id": "c5ddb5f59da27710"
  },
  {
   "cell_type": "code",
   "execution_count": 8,
   "outputs": [
    {
     "name": "stdout",
     "output_type": "stream",
     "text": [
      "Split: 8020, Image: visual\n",
      "Image shape: (50, 127, 214)\n",
      "GT shape: (50, 127, 214)\n",
      "Dice: 0.5462526711464689\n",
      "Split: 8020, Image: c3\n",
      "Image shape: (149, 105, 147)\n",
      "GT shape: (149, 105, 147)\n",
      "Dice: 0.3586485504207554\n",
      "Split: 8020, Image: c5\n",
      "Image shape: (124, 86, 94)\n",
      "GT shape: (124, 86, 94)\n",
      "Dice: 0.4212584018642991\n",
      "Split: 6040, Image: visual\n",
      "Image shape: (50, 127, 214)\n",
      "GT shape: (50, 127, 214)\n",
      "Dice: 0.32975496609967886\n",
      "Split: 6040, Image: c3\n",
      "Image shape: (149, 105, 147)\n",
      "GT shape: (149, 105, 147)\n",
      "Dice: 0.46105638941004795\n",
      "Split: 6040, Image: c5\n",
      "Image shape: (124, 86, 94)\n",
      "GT shape: (124, 86, 94)\n",
      "Dice: 0.28778826871657753\n"
     ]
    }
   ],
   "source": [
    "cellpose_dices = model_dices_across_splits(cellpose_preds)"
   ],
   "metadata": {
    "collapsed": false,
    "ExecuteTime": {
     "end_time": "2023-08-10T13:44:16.762030300Z",
     "start_time": "2023-08-10T13:44:16.653353200Z"
    }
   },
   "id": "68a90f70c638436b"
  },
  {
   "cell_type": "code",
   "execution_count": 9,
   "outputs": [
    {
     "name": "stdout",
     "output_type": "stream",
     "text": [
      "Split: 8020, Image: visual\n",
      "Image shape: (50, 127, 214)\n",
      "GT shape: (50, 127, 214)\n",
      "Dice: 0.6696363730677456\n",
      "Split: 8020, Image: c3\n",
      "Image shape: (149, 105, 147)\n",
      "GT shape: (149, 105, 147)\n",
      "Dice: 0.5228543567663311\n",
      "Split: 8020, Image: c5\n",
      "Image shape: (124, 86, 94)\n",
      "GT shape: (124, 86, 94)\n",
      "Dice: 0.6306411323896752\n",
      "Split: 6040, Image: visual\n",
      "Image shape: (50, 127, 214)\n",
      "GT shape: (50, 127, 214)\n",
      "Dice: 0.6547947996383686\n",
      "Split: 6040, Image: c3\n",
      "Image shape: (149, 105, 147)\n",
      "GT shape: (149, 105, 147)\n",
      "Dice: 0.5219389414443077\n",
      "Split: 6040, Image: c5\n",
      "Image shape: (124, 86, 94)\n",
      "GT shape: (124, 86, 94)\n",
      "Dice: 0.725773126793911\n"
     ]
    }
   ],
   "source": [
    "stardist_dices = model_dices_across_splits(stardist_preds)"
   ],
   "metadata": {
    "collapsed": false,
    "ExecuteTime": {
     "end_time": "2023-08-10T13:44:16.872011300Z",
     "start_time": "2023-08-10T13:44:16.762030300Z"
    }
   },
   "id": "2f7fd6da44d6aaa4"
  },
  {
   "cell_type": "code",
   "execution_count": 10,
   "outputs": [
    {
     "name": "stdout",
     "output_type": "stream",
     "text": [
      "Split: 8020, Image: visual\n",
      "Image shape: (50, 127, 214)\n",
      "GT shape: (50, 127, 214)\n",
      "Dice: 0.7742763592762825\n",
      "Split: 8020, Image: c3\n",
      "Image shape: (149, 105, 147)\n",
      "GT shape: (149, 105, 147)\n",
      "Dice: 0.7732059262568924\n",
      "Split: 8020, Image: c5\n",
      "Image shape: (124, 86, 94)\n",
      "GT shape: (124, 86, 94)\n",
      "Dice: 0.6349198430120402\n",
      "Split: 6040, Image: visual\n",
      "Image shape: (50, 127, 214)\n",
      "GT shape: (50, 127, 214)\n",
      "Dice: 0.7482627642659443\n",
      "Split: 6040, Image: c3\n",
      "Image shape: (149, 105, 147)\n",
      "GT shape: (149, 105, 147)\n",
      "Dice: 0.8407463430415053\n",
      "Split: 6040, Image: c5\n",
      "Image shape: (124, 86, 94)\n",
      "GT shape: (124, 86, 94)\n",
      "Dice: 0.6176906743958748\n"
     ]
    }
   ],
   "source": [
    "segres_dices = model_dices_across_splits(segres_preds)"
   ],
   "metadata": {
    "collapsed": false,
    "ExecuteTime": {
     "end_time": "2023-08-10T13:44:16.982744900Z",
     "start_time": "2023-08-10T13:44:16.872011300Z"
    }
   },
   "id": "4f960e12c72e0772"
  },
  {
   "cell_type": "code",
   "execution_count": 11,
   "outputs": [
    {
     "name": "stdout",
     "output_type": "stream",
     "text": [
      "Split: 8020, Image: visual\n",
      "Image shape: (50, 127, 214)\n",
      "GT shape: (50, 127, 214)\n",
      "Dice: 0.843205100791167\n",
      "Split: 8020, Image: c3\n",
      "Image shape: (149, 105, 147)\n",
      "GT shape: (149, 105, 147)\n",
      "Dice: 0.8399061788580495\n",
      "Split: 8020, Image: c5\n",
      "Image shape: (124, 86, 94)\n",
      "GT shape: (124, 86, 94)\n",
      "Dice: 0.8205994504570179\n",
      "Split: 6040, Image: visual\n",
      "Image shape: (50, 127, 214)\n",
      "GT shape: (50, 127, 214)\n",
      "Dice: 0.834037286603933\n",
      "Split: 6040, Image: c3\n",
      "Image shape: (149, 105, 147)\n",
      "GT shape: (149, 105, 147)\n",
      "Dice: 0.848574773573554\n",
      "Split: 6040, Image: c5\n",
      "Image shape: (124, 86, 94)\n",
      "GT shape: (124, 86, 94)\n",
      "Dice: 0.8382282793867121\n"
     ]
    }
   ],
   "source": [
    "swin_dices = model_dices_across_splits(swin_preds)"
   ],
   "metadata": {
    "collapsed": false,
    "ExecuteTime": {
     "end_time": "2023-08-10T13:44:17.136051900Z",
     "start_time": "2023-08-10T13:44:16.983713600Z"
    }
   },
   "id": "a60107141d1b91b2"
  },
  {
   "cell_type": "code",
   "execution_count": 12,
   "outputs": [
    {
     "name": "stdout",
     "output_type": "stream",
     "text": [
      "Split: 8020, Image: visual\n",
      "Image shape: (50, 127, 214)\n",
      "GT shape: (50, 127, 214)\n",
      "Dice: 0.8179572126452918\n",
      "Split: 8020, Image: c3\n",
      "Image shape: (149, 105, 147)\n",
      "GT shape: (149, 105, 147)\n",
      "Dice: 0.8113536341409202\n",
      "Split: 8020, Image: c5\n",
      "Image shape: (124, 86, 94)\n",
      "GT shape: (124, 86, 94)\n",
      "Dice: 0.8087545264446371\n",
      "Split: 6040, Image: visual\n",
      "Image shape: (50, 127, 214)\n",
      "GT shape: (50, 127, 214)\n",
      "Dice: 0.8179572126452918\n",
      "Split: 6040, Image: c3\n",
      "Image shape: (149, 105, 147)\n",
      "GT shape: (149, 105, 147)\n",
      "Dice: 0.8113536341409202\n",
      "Split: 6040, Image: c5\n",
      "Image shape: (124, 86, 94)\n",
      "GT shape: (124, 86, 94)\n",
      "Dice: 0.8087545264446371\n"
     ]
    }
   ],
   "source": [
    "wnet_dices = model_dices_across_splits(wnet_preds)"
   ],
   "metadata": {
    "collapsed": false,
    "ExecuteTime": {
     "end_time": "2023-08-10T13:44:17.246577800Z",
     "start_time": "2023-08-10T13:44:17.107101400Z"
    }
   },
   "id": "9528f08288022fa5"
  },
  {
   "cell_type": "code",
   "execution_count": 13,
   "outputs": [],
   "source": [
    "model_names = [\"cellpose\", \"stardist\", \"segres\", \"swin\", \"wnet\"]\n",
    "models = [cellpose_dices, stardist_dices, segres_dices, swin_dices]\n",
    "wnet_means = [np.mean(wnet_dices[\"8020\"]), np.mean(wnet_dices[\"6040\"])]"
   ],
   "metadata": {
    "collapsed": false,
    "ExecuteTime": {
     "end_time": "2023-08-10T13:44:17.257520900Z",
     "start_time": "2023-08-10T13:44:17.220797600Z"
    }
   },
   "id": "70d9c2e6a28a2ce6"
  },
  {
   "cell_type": "code",
   "execution_count": 14,
   "outputs": [
    {
     "data": {
      "text/plain": "<Figure size 640x480 with 1 Axes>",
      "image/png": "[encoded data removed]"
     },
     "metadata": {},
     "output_type": "display_data"
    }
   ],
   "source": [
    "# plot dices for each model with split on x axis\n",
    "# plot as confidence interval with min, max, middle values\n",
    "\n",
    "for i, model in enumerate(models):\n",
    "    max_dices = []\n",
    "    min_dices = []\n",
    "    middle_dices = []\n",
    "    for split in model:\n",
    "        dices = sorted(model[split])\n",
    "        max_dices.append(dices[-1])\n",
    "        min_dices.append(dices[0])\n",
    "        middle_dices.append(dices[1])\n",
    "    plt.plot(middle_dices, label=model_names[i])\n",
    "    # fill between according to std\n",
    "    plt.fill_between(range(len(middle_dices)), min_dices, max_dices, alpha=0.2)\n",
    "\n",
    "# plt.hlines(wnet_means, 0, 1, label=\"wnet\", linestyles=\"dashed\", colors=\"purple\")       \n",
    "plt.legend()\n",
    "# set xticks to be split names\n",
    "plt.xticks([0,1], [\"60/40\",\"80/20\"])\n",
    "plt.xlabel(\"Split\")\n",
    "plt.ylabel(\"Dice coefficient\")\n",
    "plt.title(\"Dice coefficient for each model and split\")\n",
    "plt.xlim(-0.2, 1.2)\n",
    "plt.show()"
   ],
   "metadata": {
    "collapsed": false,
    "ExecuteTime": {
     "end_time": "2023-08-10T13:44:17.453356300Z",
     "start_time": "2023-08-10T13:44:17.239145700Z"
    }
   },
   "id": "63d602a8467ef397"
  },
  {
   "cell_type": "code",
   "execution_count": 15,
   "outputs": [
    {
     "data": {
      "text/plain": "<Figure size 640x480 with 1 Axes>",
      "image/png": "[encoded data removed]"
     },
     "metadata": {},
     "output_type": "display_data"
    }
   ],
   "source": [
    "# plot dices for each model with split on x axis\n",
    "# plot as confidence interval with min, max, middle values\n",
    "for i, model in enumerate(models):\n",
    "    mean_dices = []\n",
    "    std_dices = []\n",
    "    for split in model:\n",
    "        dices = sorted(model[split])\n",
    "        mean_dices.append(np.mean(dices))\n",
    "        std_dices.append(np.std(dices))\n",
    "    plt.plot(mean_dices, label=model_names[i])\n",
    "    # fill between according to std\n",
    "    plt.fill_between(range(len(mean_dices)), np.array(mean_dices) - np.array(std_dices), np.array(mean_dices) + np.array(std_dices), alpha=0.2)\n",
    "plt.plot(wnet_means, label=\"wnet\")    \n",
    "plt.legend()      \n",
    "plt.show()"
   ],
   "metadata": {
    "collapsed": false,
    "ExecuteTime": {
     "end_time": "2023-08-10T13:44:17.659804Z",
     "start_time": "2023-08-10T13:44:17.457373700Z"
    }
   },
   "id": "48df1b49c9a0f23"
  },
  {
   "cell_type": "code",
   "execution_count": 16,
   "outputs": [
    {
     "data": {
      "text/plain": "<Figure size 640x480 with 1 Axes>",
      "image/png": "[encoded data removed]"
     },
     "metadata": {},
     "output_type": "display_data"
    }
   ],
   "source": [
    "# plot dices for each model with split on x axis\n",
    "# plot as confidence interval with min, max, middle values\n",
    "for i, model in enumerate(models):\n",
    "    max_dices = []\n",
    "    min_dices = []\n",
    "    middle_dices = []\n",
    "    for split in model:\n",
    "        dices = sorted(model[split])\n",
    "        max_dices.append(dices[-1])\n",
    "        min_dices.append(dices[0])\n",
    "        middle_dices.append(dices[1])\n",
    "    plt.plot(middle_dices, label=model_names[i])\n",
    "    # show error bars with min and max with same color as line and 0.2 alpha\n",
    "    plt.errorbar(range(len(middle_dices)), middle_dices, yerr=[np.array(middle_dices) - np.array(min_dices), np.array(max_dices) - np.array(middle_dices)], fmt='o', color=plt.gca().lines[-1].get_color(), alpha=0.7)\n",
    "# plt.plot(wnet_means, label=\"wnet\")\n",
    "plt.hlines(wnet_means, 0, 1, label=\"wnet\", linestyles=\"dashed\", colors=\"purple\")   \n",
    "plt.legend()\n",
    "# set xticks to be split names\n",
    "plt.xticks([0,1], [\"60/40\",\"80/20\"])\n",
    "plt.xlabel(\"Split\")\n",
    "plt.ylabel(\"Dice coefficient\")\n",
    "plt.title(\"Dice coefficient for each model and split\")\n",
    "plt.xlim(-0.2, 1.2)\n",
    "plt.yticks(np.arange(0, 1.1, 0.1))\n",
    "plt.show()"
   ],
   "metadata": {
    "collapsed": false,
    "ExecuteTime": {
     "end_time": "2023-08-10T13:44:17.897170100Z",
     "start_time": "2023-08-10T13:44:17.666786500Z"
    }
   },
   "id": "7e3a71da274bae1a"
  },
  {
   "cell_type": "code",
   "execution_count": 16,
   "outputs": [],
   "source": [],
   "metadata": {
    "collapsed": false,
    "ExecuteTime": {
     "end_time": "2023-08-10T13:44:17.911131600Z",
     "start_time": "2023-08-10T13:44:17.896172Z"
    }
   },
   "id": "a7d81dba01def401"
  }
 ],
 "metadata": {
  "kernelspec": {
   "display_name": "Python 3 (ipykernel)",
   "language": "python",
   "name": "python3"
  },
  "language_info": {
   "codemirror_mode": {
    "name": "ipython",
    "version": 3
   },
   "file_extension": ".py",
   "mimetype": "text/x-python",
   "name": "python",
   "nbconvert_exporter": "python",
   "pygments_lexer": "ipython3",
   "version": "3.8.16"
  }
 },
 "nbformat": 4,
 "nbformat_minor": 5
}
