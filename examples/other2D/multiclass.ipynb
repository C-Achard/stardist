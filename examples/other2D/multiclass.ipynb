{
 "cells": [
  {
   "cell_type": "markdown",
   "metadata": {},
   "source": [
    "**In case of problems or questions, please first check the list of [Frequently Asked Questions (FAQ)](https://stardist.net/docs/faq.html).**"
   ]
  },
  {
   "cell_type": "markdown",
   "metadata": {},
   "source": [
    "# Multi class StarDist model\n",
    "\n",
    "\n",
    "This notebook demonstrates how StarDist can addtionally be used to to classify object instances into a fixed number of different object classes (e.g. cell types, phenotypes, etc).\n",
    "\n",
    "To use multiclass StarDist one has to provide for every training input image `X` and associated label instance mask `Y` and additional **class dictionary** `cls_dict`, that maps instance ids to a discrete set of class labels `label_id -> (1,..., n_classes)`.\n",
    "\n",
    "The only difference to normal stardist training is \n",
    "\n",
    "* Set the `n_classes` variable to the number of all object classes in the `Config` object \n",
    "* Set the `classes` variable in `model.train` to a list of class dictionaries for every image/label pair\n",
    "\n",
    "\n",
    "In the following we demonstrate this workflow for the case of a synthetic dataset constisting of 2 celltypes of different texture."
   ]
  },
  {
   "cell_type": "code",
   "execution_count": null,
   "metadata": {},
   "outputs": [],
   "source": [
    "from __future__ import print_function, unicode_literals, absolute_import, division\n",
    "import sys\n",
    "import numpy as np\n",
    "import matplotlib\n",
    "matplotlib.rcParams[\"image.interpolation\"] = None\n",
    "import matplotlib.pyplot as plt\n",
    "%matplotlib inline\n",
    "%config InlineBackend.figure_format = 'retina'\n",
    "\n",
    "from glob import glob\n",
    "import json\n",
    "from tqdm import tqdm\n",
    "from tifffile import imread\n",
    "from csbdeep.utils import Path, normalize\n",
    "\n",
    "from stardist import fill_label_holes, random_label_cmap, calculate_extents, gputools_available\n",
    "from stardist.matching import matching, matching_dataset\n",
    "from stardist.models import Config2D, StarDist2D, StarDistData2D\n",
    "from stardist.utils import mask_to_categorical\n",
    "from stardist.plot import render_label\n",
    "\n",
    "\n",
    "np.random.seed(42)\n",
    "lbl_cmap = random_label_cmap()\n",
    "lbl_cmap_classes = matplotlib.cm.tab20\n",
    "\n",
    "def plot_img_label(img, lbl, cls_dict, n_classes=2, img_title=\"image\", lbl_title=\"label\", cls_title=\"classes\",**kwargs):\n",
    "    c = mask_to_categorical(lbl, n_classes=n_classes, classes = cls_dict)\n",
    "    res = np.zeros(lbl.shape, np.uint16)\n",
    "    for i in range(1,c.shape[-1]):\n",
    "        m = c[...,i]>0\n",
    "        res[m] = i\n",
    "    class_img = lbl_cmap_classes(res)\n",
    "    class_img[...,:3][res==0] = 0 \n",
    "    class_img[...,-1][res==0] = 1\n",
    "    \n",
    "    fig, (ai,al,ac) = plt.subplots(1,3, figsize=(18,7), gridspec_kw=dict(width_ratios=(1.,1,1)))\n",
    "    im = ai.imshow(img, cmap='gray')\n",
    "    #fig.colorbar(im, ax = ai)\n",
    "    ai.set_title(img_title)    \n",
    "    al.imshow(render_label(lbl, .5*normalize(img), normalize_img=False, alpha_boundary=.8,cmap=lbl_cmap))\n",
    "    al.set_title(lbl_title)\n",
    "    ac.imshow(class_img)\n",
    "    ac.imshow(render_label(res, .5*normalize(img), normalize_img=False,  alpha_boundary=.8, cmap=lbl_cmap_classes))\n",
    "    ac.set_title(cls_title)\n",
    "    plt.tight_layout()    \n",
    "    for a in ai,al,ac:\n",
    "        a.axis(\"off\")\n",
    "    return ai,al,ac"
   ]
  },
  {
   "cell_type": "code",
   "execution_count": null,
   "metadata": {},
   "outputs": [],
   "source": [
    "# set the number of object classes\n",
    "n_classes = 2"
   ]
  },
  {
   "cell_type": "code",
   "execution_count": null,
   "metadata": {},
   "outputs": [],
   "source": [
    "# generate synthetic samples of 2D images, label masks, and class dicts \n",
    "\n",
    "def generate_sample(n=256):\n",
    "    from scipy.ndimage.morphology import distance_transform_edt\n",
    "    from skimage.segmentation import watershed, relabel_sequential \n",
    "    from skimage.morphology import disk, binary_erosion, binary_closing\n",
    "    from scipy import ndimage as ndi\n",
    "    m = np.random.randint(10,30)\n",
    "    center = tuple(np.random.randint(0,n,(2,m)))\n",
    "    markers = np.zeros((n,n),np.uint16)\n",
    "    markers[center] = np.random.permutation(np.arange(1,m+1))\n",
    "    \n",
    "    dist = distance_transform_edt(1-1*(markers>0)) + 4*ndi.zoom(np.random.uniform(0,1,(n//16,n//16)), (16,16), order=1)\n",
    "    dist *= np.random.uniform(1,2)\n",
    "    y = watershed(dist, markers, mask=np.exp(-.1*dist)>.1)\n",
    "        \n",
    "    y = relabel_sequential(np.max(np.stack([i*binary_closing(y==i,disk(3)) for i in np.unique(y[y>0])],axis = 0),axis=0))[0]\n",
    "\n",
    "    ind = np.arange(1,y.max()+1)\n",
    "    np.random.shuffle(ind)\n",
    "    c1, c2 = ind[:len(ind)//2], ind[len(ind)//2:]\n",
    "    m1 = np.isin(y,c1)\n",
    "    m2 = np.isin(y,c2)    \n",
    "    \n",
    "    x =  ndi.filters.gaussian_filter((y>0).astype(np.float32),2)\n",
    "    \n",
    "    \n",
    "    noise1 = ndi.zoom(np.random.uniform(0,1,(n//4,n//4)), (4,4), order=3)\n",
    "    noise2 = ndi.zoom(np.random.uniform(0,1,(n//16,n//16)), (16,16), order=3)\n",
    "    x[m1] = .2*(1+np.sin(y[m1]))+noise1[m1]\n",
    "    x[m2] = .2*(1+np.sin(y[m2]))+noise2[m2]\n",
    "    x = ndi.filters.gaussian_filter(x,1)+2*ndi.filters.gaussian_filter(x,20)\n",
    "    gain = 100 \n",
    "    x = np.random.poisson((1+gain*x).astype(int))/gain\n",
    "    x += .08*np.random.normal(0,1,x.shape)\n",
    "    cls = dict((i,1 if i in c1 else 2) for i in range(1,m+1))\n",
    "    return x, y, cls\n"
   ]
  },
  {
   "cell_type": "code",
   "execution_count": null,
   "metadata": {},
   "outputs": [],
   "source": [
    "# plot an example \n",
    "np.random.seed(42)\n",
    "x,y,cls_dict = generate_sample()\n",
    "\n",
    "ax = plot_img_label(x,y,cls_dict, n_classes=n_classes)\n",
    "for a in ax: a.axis(\"off\");"
   ]
  },
  {
   "cell_type": "code",
   "execution_count": null,
   "metadata": {},
   "outputs": [],
   "source": [
    "# show the cls_dict for this example. {label_id -> class_number}\n",
    "\n",
    "print(cls_dict)"
   ]
  },
  {
   "cell_type": "markdown",
   "metadata": {},
   "source": [
    "Generate a synthetic training set of 100 random images, label masks, and class dictionaries"
   ]
  },
  {
   "cell_type": "code",
   "execution_count": null,
   "metadata": {},
   "outputs": [],
   "source": [
    "X, Y, C = tuple(zip(*tuple(generate_sample() for _ in tqdm(range(100)))))\n",
    "\n",
    "print(len(X), len(Y), len(C))\n",
    "assert len(X) == len(Y) == len(C)"
   ]
  },
  {
   "cell_type": "code",
   "execution_count": null,
   "metadata": {},
   "outputs": [],
   "source": [
    "n_channel = 1 if X[0].ndim == 2 else X[0].shape[-1]"
   ]
  },
  {
   "cell_type": "markdown",
   "metadata": {},
   "source": [
    "Normalize images and fill small label holes."
   ]
  },
  {
   "cell_type": "code",
   "execution_count": null,
   "metadata": {},
   "outputs": [],
   "source": [
    "axis_norm = (0,1)   # normalize channels independently\n",
    "# axis_norm = (0,1,2) # normalize channels jointly\n",
    "if n_channel > 1:\n",
    "    print(\"Normalizing image channels %s.\" % ('jointly' if axis_norm is None or 2 in axis_norm else 'independently'))\n",
    "    sys.stdout.flush()\n",
    "\n",
    "X = [normalize(x,1,99.8,axis=axis_norm) for x in tqdm(X)]\n",
    "Y = [fill_label_holes(y) for y in tqdm(Y)]"
   ]
  },
  {
   "cell_type": "markdown",
   "metadata": {},
   "source": [
    "Split into train and validation datasets."
   ]
  },
  {
   "cell_type": "code",
   "execution_count": null,
   "metadata": {},
   "outputs": [],
   "source": [
    "assert len(X) > 1, \"not enough training data\"\n",
    "rng = np.random.RandomState(42)\n",
    "ind = rng.permutation(len(X))\n",
    "n_val = max(1, int(round(0.15 * len(ind))))\n",
    "ind_train, ind_val = ind[:-n_val], ind[-n_val:]\n",
    "X_val, Y_val, C_val = [X[i] for i in ind_val]  , [Y[i] for i in ind_val] , [C[i] for i in ind_val]\n",
    "X_trn, Y_trn, C_trn = [X[i] for i in ind_train], [Y[i] for i in ind_train],  [C[i] for i in ind_train] \n",
    "print('number of images: %3d' % len(X))\n",
    "print('- training:       %3d' % len(X_trn))\n",
    "print('- validation:     %3d' % len(X_val))"
   ]
  },
  {
   "cell_type": "markdown",
   "metadata": {},
   "source": [
    "Training data consists of pairs of input image and label instances."
   ]
  },
  {
   "cell_type": "code",
   "execution_count": null,
   "metadata": {},
   "outputs": [],
   "source": [
    "i = min(8, len(X)-1)\n",
    "img, lbl, cls = X[i], Y[i], C[i]\n",
    "assert img.ndim in (2,3)\n",
    "img = img if (img.ndim==2 or img.shape[-1]==3) else img[...,0]\n",
    "plot_img_label(img,lbl, cls)\n",
    "None;"
   ]
  },
  {
   "cell_type": "markdown",
   "metadata": {},
   "source": [
    "# Configuration\n",
    "\n",
    "A `StarDist2D` model is specified via a `Config2D` object."
   ]
  },
  {
   "cell_type": "code",
   "execution_count": null,
   "metadata": {},
   "outputs": [],
   "source": [
    "print(Config2D.__doc__)"
   ]
  },
  {
   "cell_type": "markdown",
   "metadata": {},
   "source": [
    "### Multiclass Model\n",
    "\n",
    "\n",
    "\n",
    "* Set the `n_classes` variable to the number of all object classes in the `Config` object \n",
    "* Set the `classes` variable in `model.train` to a list of class dictionaries for every image/label pair\n"
   ]
  },
  {
   "cell_type": "code",
   "execution_count": null,
   "metadata": {},
   "outputs": [],
   "source": [
    "# 32 is a good default choice (see 1_data.ipynb)\n",
    "n_rays = 32\n",
    "\n",
    "# Use OpenCL-based computations for data generator during training (requires 'gputools')\n",
    "use_gpu = False and gputools_available()\n",
    "\n",
    "# Predict on subsampled grid for increased efficiency and larger field of view\n",
    "grid = (2,2)\n",
    "\n",
    "conf = Config2D (\n",
    "    n_rays       = n_rays,\n",
    "    grid         = grid,\n",
    "    use_gpu      = use_gpu,\n",
    "    n_channel_in = n_channel,\n",
    "    n_classes    = n_classes   # set the number of object classes\n",
    ")\n",
    "print(conf)\n",
    "vars(conf)"
   ]
  },
  {
   "cell_type": "code",
   "execution_count": null,
   "metadata": {},
   "outputs": [],
   "source": [
    "if use_gpu:\n",
    "    from csbdeep.utils.tf import limit_gpu_memory\n",
    "    # adjust as necessary: limit GPU memory to be used by TensorFlow to leave some to OpenCL-based computations\n",
    "    limit_gpu_memory(0.8)"
   ]
  },
  {
   "cell_type": "markdown",
   "metadata": {},
   "source": [
    "**Note:** The trained `StarDist2D` model will *not* predict completed shapes for partially visible objects at the image boundary if `train_shape_completion=False` (which is the default option)."
   ]
  },
  {
   "cell_type": "code",
   "execution_count": null,
   "metadata": {},
   "outputs": [],
   "source": [
    "#model = StarDist2D(conf, name='stardist_multiclass_cyclic', basedir='models')\n",
    "model = StarDist2D(None, name='stardist_multiclass_cyclic', basedir='models')"
   ]
  },
  {
   "cell_type": "markdown",
   "metadata": {},
   "source": [
    "Check if the neural network has a large enough field of view to see up to the boundary of most objects."
   ]
  },
  {
   "cell_type": "code",
   "execution_count": null,
   "metadata": {},
   "outputs": [],
   "source": [
    "median_size = calculate_extents(list(Y), np.median)\n",
    "fov = np.array(model._axes_tile_overlap('YX'))\n",
    "print(f\"median object size:      {median_size}\")\n",
    "print(f\"network field of view :  {fov}\")\n",
    "if any(median_size > fov):\n",
    "    print(\"WARNING: median object size larger than field of view of the neural network.\")"
   ]
  },
  {
   "cell_type": "markdown",
   "metadata": {},
   "source": [
    "# Data Augmentation"
   ]
  },
  {
   "cell_type": "markdown",
   "metadata": {},
   "source": [
    "You can define a function/callable that applies augmentation to each batch of the data generator.  \n",
    "We here use an `augmenter` that applies random rotations, flips, and intensity changes, which are typically sensible for (2D) microscopy images (but you can disable augmentation by setting `augmenter = None`)."
   ]
  },
  {
   "cell_type": "code",
   "execution_count": null,
   "metadata": {},
   "outputs": [],
   "source": [
    "def random_fliprot(img, mask): \n",
    "    assert img.ndim >= mask.ndim\n",
    "    axes = tuple(range(mask.ndim))\n",
    "    perm = tuple(np.random.permutation(axes))\n",
    "    img = img.transpose(perm + tuple(range(mask.ndim, img.ndim))) \n",
    "    mask = mask.transpose(perm) \n",
    "    for ax in axes: \n",
    "        if np.random.rand() > 0.5:\n",
    "            img = np.flip(img, axis=ax)\n",
    "            mask = np.flip(mask, axis=ax)\n",
    "    return img, mask \n",
    "\n",
    "def random_intensity_change(img):\n",
    "    img = img*np.random.uniform(0.6,2) + np.random.uniform(-0.2,0.2)\n",
    "    return img\n",
    "\n",
    "\n",
    "def augmenter(x, y):\n",
    "    \"\"\"Augmentation of a single input/label image pair.\n",
    "    x is an input image\n",
    "    y is the corresponding ground-truth label image\n",
    "    \"\"\"\n",
    "    x, y = random_fliprot(x, y)\n",
    "    x = random_intensity_change(x)\n",
    "    # add some gaussian noise\n",
    "    sig = 0.02*np.random.uniform(0,1)\n",
    "    x = x + sig*np.random.normal(0,1,x.shape)\n",
    "    return x, y"
   ]
  },
  {
   "cell_type": "code",
   "execution_count": null,
   "metadata": {},
   "outputs": [],
   "source": [
    "# plot some augmented examples\n",
    "img, lbl, cls = X[0],Y[0], C[0]\n",
    "plot_img_label(img, lbl, cls, n_classes=n_classes)\n",
    "for _ in range(3):\n",
    "    img_aug, lbl_aug = augmenter(img,lbl)\n",
    "    plot_img_label(img_aug, lbl_aug, cls,  img_title=\"image augmented\", lbl_title=\"label augmented\", n_classes=n_classes)"
   ]
  },
  {
   "cell_type": "markdown",
   "metadata": {},
   "source": [
    "# Training"
   ]
  },
  {
   "cell_type": "markdown",
   "metadata": {},
   "source": [
    "We recommend to monitor the progress during training with [TensorBoard](https://www.tensorflow.org/programmers_guide/summaries_and_tensorboard). You can start it in the shell from the current working directory like this:\n",
    "\n",
    "    $ tensorboard --logdir=.\n",
    "\n",
    "Then connect to [http://localhost:6006/](http://localhost:6006/) with your browser.\n"
   ]
  },
  {
   "cell_type": "code",
   "execution_count": null,
   "metadata": {
    "scrolled": false
   },
   "outputs": [],
   "source": [
    "model.train(X_trn, Y_trn, classes = C_trn, validation_data=(X_val,Y_val, C_val), augmenter=augmenter, epochs=200, steps_per_epoch=200)\n"
   ]
  },
  {
   "cell_type": "markdown",
   "metadata": {},
   "source": [
    "# Threshold optimization"
   ]
  },
  {
   "cell_type": "markdown",
   "metadata": {},
   "source": [
    "While the default values for the probability and non-maximum suppression thresholds already yield good results in many cases, we still recommend to adapt the thresholds to your data. The optimized threshold values are saved to disk and will be automatically loaded with the model."
   ]
  },
  {
   "cell_type": "code",
   "execution_count": null,
   "metadata": {
    "scrolled": false
   },
   "outputs": [],
   "source": [
    "model.optimize_thresholds(X_val, Y_val)"
   ]
  },
  {
   "cell_type": "markdown",
   "metadata": {},
   "source": [
    "# Evaluation and Detection Performance"
   ]
  },
  {
   "cell_type": "code",
   "execution_count": null,
   "metadata": {},
   "outputs": [],
   "source": [
    "# let's predict \n",
    "\n",
    "i = 8\n",
    "label, res = model.predict_instances(X_val[i], n_tiles=model._guess_n_tiles(x))"
   ]
  },
  {
   "cell_type": "code",
   "execution_count": null,
   "metadata": {},
   "outputs": [],
   "source": [
    "# the class object ods is stored in the results dict and corresponds to the label ids in increasing order \n",
    "\n",
    "def class_from_res(res):\n",
    "    cls_dict = dict((i+1,c) for i, c in enumerate(res[\"class_id\"]))\n",
    "    return cls_dict\n",
    "\n",
    "print(class_from_res(res))"
   ]
  },
  {
   "cell_type": "code",
   "execution_count": null,
   "metadata": {},
   "outputs": [],
   "source": [
    "plot_img_label(X_val[i],Y_val[i], C_val[i], lbl_title=\"GT\")\n",
    "plot_img_label(X_val[i],label, class_from_res(res), lbl_title=\"Pred\")"
   ]
  },
  {
   "cell_type": "markdown",
   "metadata": {},
   "source": [
    "Besides the losses and metrics during training, we can also quantitatively evaluate the actual detection/segmentation performance on the validation data by considering objects in the ground truth to be correctly matched if there are predicted objects with overlap (here [intersection over union (IoU)](https://en.wikipedia.org/wiki/Jaccard_index)) beyond a chosen IoU threshold $\\tau$.\n",
    "\n",
    "The corresponding matching statistics (average overlap, accuracy, recall, precision, etc.) are typically of greater practical relevance than the losses/metrics computed during training (but harder to formulate as a loss function). \n",
    "The value of $\\tau$ can be between 0 (even slightly overlapping objects count as correctly predicted) and 1 (only pixel-perfectly overlapping objects count) and which $\\tau$ to use depends on the needed segmentation precision/application.\n",
    "\n",
    "Please see `help(matching)` for definitions of the abbreviations used in the evaluation below and see the Wikipedia page on [Sensitivity and specificity](https://en.wikipedia.org/wiki/Sensitivity_and_specificity) for further details."
   ]
  },
  {
   "cell_type": "code",
   "execution_count": null,
   "metadata": {},
   "outputs": [],
   "source": [
    "from scipy.ndimage import zoom\n",
    "_,_,a = model.keras_model.predict(X_val[i][np.newaxis,...,np.newaxis])\n",
    "a = zoom(a[0],(2,2,1))"
   ]
  },
  {
   "cell_type": "code",
   "execution_count": null,
   "metadata": {},
   "outputs": [],
   "source": [
    "ss = slice(15,80),slice(15,80)\n",
    "\n",
    "plot_img_label(X_val[i][ss],label[ss], class_from_res(res), lbl_title=\"Pred\")\n",
    "\n",
    "plt.figure(figsize=(10,4))\n",
    "for k in range(3):\n",
    "    plt.subplot(1,3,k+1);\n",
    "    plt.imshow(a[...,k][ss], cmap = \"viridis\");\n",
    "    plt.axis(\"off\");"
   ]
  },
  {
   "cell_type": "code",
   "execution_count": null,
   "metadata": {},
   "outputs": [],
   "source": [
    "X_val[i][ss].shape"
   ]
  },
  {
   "cell_type": "code",
   "execution_count": null,
   "metadata": {},
   "outputs": [],
   "source": [
    "plt.imshow(X_val[i][ss])"
   ]
  },
  {
   "cell_type": "markdown",
   "metadata": {},
   "source": [
    "First predict the labels for all validation images:"
   ]
  },
  {
   "cell_type": "code",
   "execution_count": null,
   "metadata": {},
   "outputs": [],
   "source": [
    "Y_val_pred, res_val_pred = tuple(zip(*[model.predict_instances(x, n_tiles=model._guess_n_tiles(x), show_tile_progress=False)\n",
    "              for x in tqdm(X_val[:])]))"
   ]
  },
  {
   "cell_type": "markdown",
   "metadata": {},
   "source": [
    "Plot another GT/prediction example "
   ]
  },
  {
   "cell_type": "code",
   "execution_count": null,
   "metadata": {},
   "outputs": [],
   "source": [
    "i = 10\n",
    "plot_img_label(X_val[i],Y_val[i], C_val[i], lbl_title=\"label GT\")\n",
    "plot_img_label(X_val[i],Y_val_pred[i], class_from_res(res_val_pred[i]), lbl_title=\"label Pred\")"
   ]
  },
  {
   "cell_type": "markdown",
   "metadata": {},
   "source": [
    "Choose several IoU thresholds $\\tau$ that might be of interest and for each compute matching statistics for the validation data."
   ]
  },
  {
   "cell_type": "code",
   "execution_count": null,
   "metadata": {},
   "outputs": [],
   "source": [
    "taus = [0.1, 0.2, 0.3, 0.4, 0.5, 0.6, 0.7, 0.8, 0.9]\n",
    "stats = [matching_dataset(Y_val, Y_val_pred, thresh=t, show_progress=False) for t in tqdm(taus)]"
   ]
  },
  {
   "cell_type": "markdown",
   "metadata": {},
   "source": [
    "Example: Print all available matching statistics for $\\tau=0.5$"
   ]
  },
  {
   "cell_type": "code",
   "execution_count": null,
   "metadata": {},
   "outputs": [],
   "source": [
    "stats[taus.index(0.5)]"
   ]
  },
  {
   "cell_type": "markdown",
   "metadata": {},
   "source": [
    "Plot the matching statistics and the number of true/false positives/negatives as a function of the IoU threshold $\\tau$. "
   ]
  },
  {
   "cell_type": "code",
   "execution_count": null,
   "metadata": {},
   "outputs": [],
   "source": [
    "fig, (ax1,ax2) = plt.subplots(1,2, figsize=(15,5))\n",
    "\n",
    "for m in ('precision', 'recall', 'accuracy', 'f1', 'mean_true_score', 'mean_matched_score', 'panoptic_quality'):\n",
    "    ax1.plot(taus, [s._asdict()[m] for s in stats], '.-', lw=2, label=m)\n",
    "ax1.set_xlabel(r'IoU threshold $\\tau$')\n",
    "ax1.set_ylabel('Metric value')\n",
    "ax1.grid()\n",
    "ax1.legend()\n",
    "\n",
    "for m in ('fp', 'tp', 'fn'):\n",
    "    ax2.plot(taus, [s._asdict()[m] for s in stats], '.-', lw=2, label=m)\n",
    "ax2.set_xlabel(r'IoU threshold $\\tau$')\n",
    "ax2.set_ylabel('Number #')\n",
    "ax2.grid()\n",
    "ax2.legend();"
   ]
  },
  {
   "cell_type": "code",
   "execution_count": null,
   "metadata": {},
   "outputs": [],
   "source": []
  }
 ],
 "metadata": {
  "kernelspec": {
   "display_name": "Python 3",
   "language": "python",
   "name": "python3"
  },
  "language_info": {
   "codemirror_mode": {
    "name": "ipython",
    "version": 3
   },
   "file_extension": ".py",
   "mimetype": "text/x-python",
   "name": "python",
   "nbconvert_exporter": "python",
   "pygments_lexer": "ipython3",
   "version": "3.6.7"
  }
 },
 "nbformat": 4,
 "nbformat_minor": 2
}
